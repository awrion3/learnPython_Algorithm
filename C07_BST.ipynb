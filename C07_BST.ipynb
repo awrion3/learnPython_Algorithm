{
 "cells": [
  {
   "cell_type": "markdown",
   "id": "1fdef6ed-6032-4e1a-bed9-811780b6e2fc",
   "metadata": {},
   "source": [
    "## Question 1. Binary Search Tree"
   ]
  },
  {
   "cell_type": "markdown",
   "id": "43e37eda-7aea-4c60-9bcf-be1d084e0275",
   "metadata": {},
   "source": [
    "> a) Inorder Tree Walk: Function to perform an inorder traversal of a BST"
   ]
  },
  {
   "cell_type": "code",
   "execution_count": 4,
   "id": "1e41c50c-90c3-40e7-936a-a670403c8063",
   "metadata": {},
   "outputs": [],
   "source": [
    "class TreeNode:\n",
    "    def __init__(self, value):\n",
    "        self.key = value\n",
    "        self.left = None\n",
    "        self.right = None\n",
    "# Construct a simple BST [5, 3, 8, 2, 4, 7, 9]\n",
    "root = TreeNode(5)\n",
    "root.left = TreeNode(3)\n",
    "root.right = TreeNode(8)\n",
    "root.left.left = TreeNode(2)\n",
    "root.left.right = TreeNode(4)\n",
    "root.right.left = TreeNode(7)\n",
    "root.right.right = TreeNode(9)"
   ]
  },
  {
   "cell_type": "code",
   "execution_count": 12,
   "id": "e255d270-7423-4e29-b683-f6bd1ccfa2a2",
   "metadata": {},
   "outputs": [],
   "source": [
    "def inorder_tree_walk(x): #time complexity O(n)\n",
    "    if x == None:\n",
    "        return\n",
    "    inorder_tree_walk(x.left)\n",
    "    print(x.key, end=' ')\n",
    "    inorder_tree_walk(x.right)"
   ]
  },
  {
   "cell_type": "code",
   "execution_count": 14,
   "id": "7688aa44-3417-48bc-8300-52bc73087170",
   "metadata": {},
   "outputs": [
    {
     "name": "stdout",
     "output_type": "stream",
     "text": [
      "Inorder Tree Walk:\n",
      "2 3 4 5 7 8 9 "
     ]
    }
   ],
   "source": [
    "#starts from root\n",
    "print(\"Inorder Tree Walk:\")\n",
    "inorder_tree_walk(root)"
   ]
  },
  {
   "cell_type": "code",
   "execution_count": 24,
   "id": "61ecfe04-9aa1-4bd7-b053-3f8fc8065cea",
   "metadata": {},
   "outputs": [],
   "source": [
    "#single node insertion\n",
    "def insert_into_bst(root, value):\n",
    "    if root is None:\n",
    "        return TreeNode(value)\n",
    "    if value < root.key:\n",
    "        root.left = insert_into_bst(root.left, value)\n",
    "    else:\n",
    "        root.right = insert_into_bst(root.right, value)\n",
    "    return root"
   ]
  },
  {
   "cell_type": "code",
   "execution_count": 25,
   "id": "bd658c14-45b1-4462-92b7-b096a35ff624",
   "metadata": {},
   "outputs": [],
   "source": [
    "#turn array to bst\n",
    "def array_to_bst(arr):\n",
    "    root = None\n",
    "    for value in arr:\n",
    "        root = insert_into_bst(root, value)\n",
    "    return root"
   ]
  },
  {
   "cell_type": "code",
   "execution_count": 26,
   "id": "55d2ce33-de55-4046-b957-0b254cc05bfa",
   "metadata": {},
   "outputs": [],
   "source": [
    "mybst = [3, 4, 5, 6, 7, 8, 9]\n",
    "myroot = array_to_bst(mybst)"
   ]
  },
  {
   "cell_type": "code",
   "execution_count": 20,
   "id": "bbc6b86e-970a-4edd-8bb5-b6f04ddb8b3a",
   "metadata": {},
   "outputs": [],
   "source": [
    "def print_tree(root, level= 0, prefix=\"Root: \"):\n",
    "    if root is not None:\n",
    "        print(\" \" * (level*4) + prefix + str(root.key))\n",
    "        if root.left is not None or root.right is not None:\n",
    "            if root.left:\n",
    "                print_tree(root.left, level + 1, \"L---\")\n",
    "            if root.right:\n",
    "                print_tree(root.right, level + 1, \"R---\")"
   ]
  },
  {
   "cell_type": "code",
   "execution_count": 27,
   "id": "145144bd-e7b6-402f-bf8c-fff2d0233efc",
   "metadata": {},
   "outputs": [
    {
     "name": "stdout",
     "output_type": "stream",
     "text": [
      "Root: 3\n",
      "    R---4\n",
      "        R---5\n",
      "            R---6\n",
      "                R---7\n",
      "                    R---8\n",
      "                        R---9\n"
     ]
    }
   ],
   "source": [
    "print_tree(myroot)"
   ]
  },
  {
   "cell_type": "markdown",
   "id": "c6454133-66d9-4731-bf4f-67f005977109",
   "metadata": {},
   "source": [
    "> b) Tree Search: Implement a function to search for a specific element in a BST"
   ]
  },
  {
   "cell_type": "code",
   "execution_count": 21,
   "id": "cbd84f25-f69a-4729-820f-bb4ea3e7b776",
   "metadata": {},
   "outputs": [],
   "source": [
    "def tree_search(x, key): #searching in recursive way\n",
    "    if x == None or key == x.key:\n",
    "        return x\n",
    "    if key < x.key:\n",
    "        return tree_search(x.left, key)\n",
    "    else:\n",
    "        return tree_search(x.right, key)"
   ]
  },
  {
   "cell_type": "code",
   "execution_count": 23,
   "id": "4c04c7ab-487f-4f26-91dd-bac55a17f4cf",
   "metadata": {},
   "outputs": [
    {
     "name": "stdout",
     "output_type": "stream",
     "text": [
      "Tree Search: <__main__.TreeNode object at 0x0000016B3599B7A0>\n",
      "Tree Search: None\n"
     ]
    }
   ],
   "source": [
    "#search specific element\n",
    "result = tree_search(root, 4) #node address\n",
    "print(\"Tree Search:\", result)\n",
    "result = tree_search(root, 1) #doesn't exist\n",
    "print(\"Tree Search:\", result)"
   ]
  },
  {
   "cell_type": "markdown",
   "id": "bc364953-2352-488f-9838-54718f4c988a",
   "metadata": {},
   "source": [
    "> c) Iterative Tree Search: BST search function to use an iterative approach"
   ]
  },
  {
   "cell_type": "code",
   "execution_count": 34,
   "id": "5d8ccf1f-3a69-4765-bb0f-df142900a343",
   "metadata": {},
   "outputs": [],
   "source": [
    "def iterative_tree_search(x, key):\n",
    "    while x != None and key != x.key:\n",
    "        if key < x.key:\n",
    "            x = x.left\n",
    "        else:\n",
    "            x = x.right\n",
    "    return x"
   ]
  },
  {
   "cell_type": "code",
   "execution_count": 38,
   "id": "0eba8497-d204-46f4-89d1-d8bbf66d8b9d",
   "metadata": {},
   "outputs": [
    {
     "name": "stdout",
     "output_type": "stream",
     "text": [
      "Iterative Tree Search: <__main__.TreeNode object at 0x0000016B3599B7A0>\n",
      "Iterative Tree Search: 4\n",
      "Iterative Tree Search: None\n"
     ]
    }
   ],
   "source": [
    "#search specific element\n",
    "result = iterative_tree_search(root, 4)\n",
    "print(\"Iterative Tree Search:\", result)\n",
    "print(\"Iterative Tree Search:\", result.key) #prints value of node (key)\n",
    "result = iterative_tree_search(root, 1)\n",
    "print(\"Iterative Tree Search:\", result)"
   ]
  },
  {
   "cell_type": "markdown",
   "id": "b2fd7fb3-5a74-4c1a-983f-3810e4137672",
   "metadata": {},
   "source": [
    "## Question 2: Querying of BST"
   ]
  },
  {
   "cell_type": "markdown",
   "id": "85fb2df8-4dcc-447c-bdcc-bda917681f1f",
   "metadata": {},
   "source": [
    "> a) Tree Minimum and Maximum: Find the minimum and maximum elements in a BST"
   ]
  },
  {
   "cell_type": "code",
   "execution_count": 49,
   "id": "b80ad546-9929-42cb-855d-153ad8f53b60",
   "metadata": {},
   "outputs": [],
   "source": [
    "def tree_minimum(x):\n",
    "    while x.left != None:\n",
    "        x = x.left\n",
    "    return x\n",
    "\n",
    "def tree_maximum(x):\n",
    "    while x.right != None:\n",
    "        x = x.right\n",
    "    return x"
   ]
  },
  {
   "cell_type": "code",
   "execution_count": 50,
   "id": "894a6701-a183-4cb7-b0fe-36d90ef36791",
   "metadata": {},
   "outputs": [
    {
     "name": "stdout",
     "output_type": "stream",
     "text": [
      "9\n",
      "2\n"
     ]
    }
   ],
   "source": [
    "result = tree_maximum(root)\n",
    "print(result.key)\n",
    "result = tree_minimum(root)\n",
    "print(result.key)"
   ]
  },
  {
   "cell_type": "markdown",
   "id": "ec737e6d-1b69-41c9-a194-aa1f22c88795",
   "metadata": {},
   "source": [
    "> b) Tree Successor: Function to find the successor of a given element in a BST"
   ]
  },
  {
   "cell_type": "code",
   "execution_count": 43,
   "id": "0beab4cc-2d2f-4ee2-9f7b-b55095c1ac15",
   "metadata": {},
   "outputs": [],
   "source": [
    "class TreeNode: #with parent pointer added\n",
    "    def __init__(self, value):\n",
    "        self.key = value\n",
    "        self.left = None\n",
    "        self.right = None\n",
    "        self.parent = None"
   ]
  },
  {
   "cell_type": "code",
   "execution_count": 80,
   "id": "2a1c4c3a-4681-4dd6-af1f-542cdbcd3887",
   "metadata": {},
   "outputs": [],
   "source": [
    "# Construct a simple BST [5, 3, 8, 2, 4, 7, 9]\n",
    "root = TreeNode(5)\n",
    "\n",
    "root.left = TreeNode(3)\n",
    "root.left.parent = root\n",
    "root.right = TreeNode(8)\n",
    "root.right.parent = root\n",
    "\n",
    "root.left.left = TreeNode(2)\n",
    "root.left.left.parent = root.left\n",
    "root.left.right = TreeNode(4)\n",
    "root.left.right.parent = root.left\n",
    "\n",
    "root.right.left = TreeNode(7)\n",
    "root.right.left.parent = root.right\n",
    "root.right.right = TreeNode(9)\n",
    "root.right.right.parent = root.right"
   ]
  },
  {
   "cell_type": "code",
   "execution_count": 76,
   "id": "089cb995-6a57-4e71-a7b1-9dfa845ca4f2",
   "metadata": {},
   "outputs": [],
   "source": [
    "def tree_successor(x):\n",
    "    if x.right != None:\n",
    "        return tree_minimum(x.right)     #finds min in right subtree\n",
    "    else:\n",
    "        y = x.parent\n",
    "        while y != None and x == y.right:\n",
    "            x = y\n",
    "            y = y.parent\n",
    "        return y"
   ]
  },
  {
   "cell_type": "code",
   "execution_count": 77,
   "id": "51e420c6-0bc6-4046-ba4b-1442580327bf",
   "metadata": {},
   "outputs": [
    {
     "name": "stdout",
     "output_type": "stream",
     "text": [
      "Tree Successor: 7\n",
      "Tree Successor: 5\n",
      "Tree Successor: None\n"
     ]
    }
   ],
   "source": [
    "#find successor: next node\n",
    "result = tree_successor(root) #5\n",
    "print(\"Tree Successor:\", result.key) #min of right subtree\n",
    "result = tree_successor(root.left.right) #4 \n",
    "print(\"Tree Successor:\", result.key) #no right subtree, goes up left till not\n",
    "result = tree_successor(root.right.right) #9\n",
    "print(\"Tree Successor:\", result)     #the maximum in the tree (no successor)"
   ]
  },
  {
   "cell_type": "markdown",
   "id": "06662a5b-6862-453e-ba3d-bba57862a816",
   "metadata": {},
   "source": [
    "> c) Tree Predecessor: Find the predecessor of a given element in a BST"
   ]
  },
  {
   "cell_type": "code",
   "execution_count": 57,
   "id": "369141b5-33cb-4517-9939-9850f186d7b3",
   "metadata": {},
   "outputs": [],
   "source": [
    "def tree_predecessor(x): #x is node, y is node x's parent\n",
    "    if x.left != None:\n",
    "        return tree_maximum(x.left) #finds max in the left subtree\n",
    "    else:\n",
    "        y = x.parent\n",
    "        while y != None and x == y.left: #since p's left is going up right in c\n",
    "            x = y\n",
    "            y = y.parent\n",
    "        return y"
   ]
  },
  {
   "cell_type": "code",
   "execution_count": 58,
   "id": "8ed8ce9f-b9d4-49b7-87a0-ffe96f9b0ec9",
   "metadata": {},
   "outputs": [
    {
     "name": "stdout",
     "output_type": "stream",
     "text": [
      "Tree Predecessor: 4\n",
      "Tree Predecessor: 3\n"
     ]
    }
   ],
   "source": [
    "#find preccessor: previous node\n",
    "result = tree_predecessor(root) #5\n",
    "print(\"Tree Predecessor:\", result.key) #max of left subtree\n",
    "result = tree_predecessor(root.left.right) #4 \n",
    "print(\"Tree Predecessor:\", result.key) #no left subtree, goes up right till not"
   ]
  },
  {
   "cell_type": "markdown",
   "id": "d9b1fc84-3555-4cf0-8c39-67eb892c54a9",
   "metadata": {},
   "source": [
    "## Question 3: Insertion and Deletion"
   ]
  },
  {
   "cell_type": "markdown",
   "id": "7e8f0392-4158-4065-b7ff-0ea5c3ddb80a",
   "metadata": {},
   "source": [
    "> a) Tree Insertion: Insert element into BST while maintaining its property"
   ]
  },
  {
   "cell_type": "code",
   "execution_count": 60,
   "id": "bde83845-37c5-4e84-bf51-969dd7b47688",
   "metadata": {},
   "outputs": [],
   "source": [
    "def tree_insertion(root, z): #inserts new element z\n",
    "    '''(this is inserting to already created tree)'''\n",
    "    x = root\n",
    "    y = None\n",
    "    while x != None:\n",
    "        y = x\n",
    "        if z.key < x.key:\n",
    "            x = x.left\n",
    "        else:\n",
    "            x = x.right\n",
    "    z.parent = y\n",
    "    if y == None:\n",
    "        root = z  #the tree was empty\n",
    "    elif z.key < y.key:\n",
    "        y.left = z\n",
    "    else:\n",
    "        y.right = z"
   ]
  },
  {
   "cell_type": "code",
   "execution_count": 86,
   "id": "332900a8-4eac-4239-828c-1a1e826eac3a",
   "metadata": {},
   "outputs": [
    {
     "name": "stdout",
     "output_type": "stream",
     "text": [
      "Inserting new tree node 6\n",
      "Inserted result:\n",
      "2 3 4 5 6 7 8 9 None\n",
      "Inserting new tree node 1\n",
      "Inserted result:\n",
      "1 2 3 4 5 6 7 8 9 None\n"
     ]
    }
   ],
   "source": [
    "print(\"Inserting new tree node 6\")\n",
    "tree_insertion(root, TreeNode(6))\n",
    "print(\"Inserted result:\")\n",
    "print(inorder_tree_walk(root))\n",
    "\n",
    "print(\"Inserting new tree node 1\")\n",
    "tree_insertion(root, TreeNode(1))\n",
    "print(\"Inserted result:\")\n",
    "print(inorder_tree_walk(root))"
   ]
  },
  {
   "cell_type": "markdown",
   "id": "98fa4895-4507-4ebf-a294-053dfdf904f6",
   "metadata": {},
   "source": [
    "> b) Tree Deletion: Delete element into BST while maintaining its property"
   ]
  },
  {
   "cell_type": "code",
   "execution_count": 84,
   "id": "1909ac3d-d1ff-484e-b87d-41213a7f2a96",
   "metadata": {},
   "outputs": [],
   "source": [
    "def transplant(root, u, v):\n",
    "    if u.parent == None:\n",
    "        root = v\n",
    "    elif u == u.parent.left:\n",
    "        u.parent.left = v\n",
    "    else:\n",
    "        u.parent.right = v\n",
    "        \n",
    "    if v != None:\n",
    "        v.parent = u.parent"
   ]
  },
  {
   "cell_type": "code",
   "execution_count": 85,
   "id": "2c6c8af8-b60f-4d8a-bdc8-c2bd6968aad2",
   "metadata": {},
   "outputs": [],
   "source": [
    "def tree_deletion(root, z): #z is node to delete\n",
    "    if not root:\n",
    "        return root\n",
    "    '''if given z.key is given instead, find the node to delete first'''\n",
    "    del_node = root\n",
    "    while del_node is not None and del_node.key != z.key:\n",
    "        if z.key < del_node.key:\n",
    "            del_node = del_node.left\n",
    "        else:\n",
    "            del_node = del_node.right\n",
    "    if del_node is None:\n",
    "        return root #key is not found so no changes needed\n",
    "        \n",
    "    '''if z.key is found, then deletion operation starts'''    \n",
    "    if z.left == None:\n",
    "        transplant(root, z, z.right)\n",
    "    elif z.right == None:\n",
    "        transplant(root, z, z.left)\n",
    "    else: #node with 2 children, get the inorder successor\n",
    "    #if right subtree exists, minimum in right subtree\n",
    "        y = tree_minimum(z.right)\n",
    "        # the above is same as:\n",
    "        #temp = del_node.right\n",
    "        #while temp.left is not None:\n",
    "        #    temp = temp.left  # go to deepest left leaf    \n",
    "    #if no right subtree exists, \n",
    "        if y != z.right:       # z was node to delete\n",
    "            transplant(tree, y, y.right)\n",
    "            y.right = z.right\n",
    "            y.right.parent = y\n",
    "        transplant(root, z, y)\n",
    "        y.left = z.left\n",
    "        y.left.parent = y"
   ]
  },
  {
   "cell_type": "code",
   "execution_count": 87,
   "id": "02ff7bff-fff3-493d-8832-4c75b6737f21",
   "metadata": {},
   "outputs": [
    {
     "name": "stdout",
     "output_type": "stream",
     "text": [
      "Deleting new tree node 6\n",
      "Deleted result:\n",
      "1 2 3 4 5 7 8 9 None\n",
      "Deleting new tree node 1\n",
      "Deleted result:\n",
      "2 3 4 5 7 8 9 None\n"
     ]
    }
   ],
   "source": [
    "print(\"Deleting new tree node 6\")\n",
    "tree_deletion(root, root.right.left.left)\n",
    "print(\"Deleted result:\")\n",
    "print(inorder_tree_walk(root))\n",
    "\n",
    "print(\"Deleting new tree node 1\")\n",
    "tree_deletion(root, root.left.left.left)\n",
    "print(\"Deleted result:\")\n",
    "print(inorder_tree_walk(root))"
   ]
  },
  {
   "cell_type": "code",
   "execution_count": null,
   "id": "87ab166b-6ce2-4e3d-9070-ac0a1fee53ff",
   "metadata": {},
   "outputs": [],
   "source": [
    "print(\"Deleting new tree node 3\")\n",
    "tree_deletion(root, root.left)\n",
    "print(\"Deleted result:\")\n",
    "print(inorder_tree_walk(root))\n",
    "\n",
    "print(\"Deleting new tree node 5\")\n",
    "tree_deletion(root, root)\n",
    "print(\"Deleted result:\")\n",
    "print(inorder_tree_walk(root)) \n",
    "#tree itself deleted, thus results in error"
   ]
  }
 ],
 "metadata": {
  "kernelspec": {
   "display_name": "Python 3 (ipykernel)",
   "language": "python",
   "name": "python3"
  },
  "language_info": {
   "codemirror_mode": {
    "name": "ipython",
    "version": 3
   },
   "file_extension": ".py",
   "mimetype": "text/x-python",
   "name": "python",
   "nbconvert_exporter": "python",
   "pygments_lexer": "ipython3",
   "version": "3.12.3"
  }
 },
 "nbformat": 4,
 "nbformat_minor": 5
}
