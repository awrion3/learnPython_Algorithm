{
 "cells": [
  {
   "cell_type": "markdown",
   "id": "db3b9045-af27-4690-bc89-515d6ed8d489",
   "metadata": {},
   "source": [
    "### Separate Chaining\n",
    "* Creating a hash table with a size of 7 and a hash function 𝒉(𝒌𝒆𝒚) = 𝒌𝒆𝒚 % 𝟕.\n",
    "* Uses chaining to handle collisions."
   ]
  },
  {
   "cell_type": "code",
   "execution_count": 11,
   "id": "8222af92-57e3-4394-b97f-4a3f35823647",
   "metadata": {},
   "outputs": [],
   "source": [
    "class HashTable:\n",
    "    def __init__(self, size):\n",
    "        # init size of 7\n",
    "        self.size = size\n",
    "        # init empty hashtable\n",
    "        self.table = [None] * size\n",
    "\n",
    "    def hash_function(self, key):\n",
    "        # set hash function to key mod 7\n",
    "        return key % self.size\n",
    "\n",
    "    def insert(self, key):\n",
    "        # adjust key value to index\n",
    "        index = self.hash_function(key)\n",
    "        # if it's new index location\n",
    "        if self.table[index] is None:\n",
    "            self.table[index] = [key]\n",
    "        # if it's index location is already filled\n",
    "        else:\n",
    "            # check within linked list\n",
    "            for i, k in enumerate(self.table[index]):\n",
    "                # if key value exists already in the linked list, replace it again\n",
    "                if k == key:\n",
    "                    self.table[index][i] = key\n",
    "                    return\n",
    "            # place the key value in the linked list\n",
    "            self.table[index].append(key)\n",
    "\n",
    "    def search(self, key):\n",
    "        # adjust key value to index\n",
    "        index = self.hash_function(key)\n",
    "        # if it's index location is already filled\n",
    "        if self.table[index] is not None:\n",
    "            # check within linked list\n",
    "            for i, k in enumerate(self.table[index]):\n",
    "                # if key value exists in the linked list, return location\n",
    "                if k == key:\n",
    "                    return i\n",
    "        # if search failed\n",
    "        print(f\"No such key {key} exists...\")\n",
    "        return None\n",
    "\n",
    "    def delete(self, key):\n",
    "        # adjust key value to index\n",
    "        index = self.hash_function(key)\n",
    "        # call search function to locate its place in linked list\n",
    "        i = self.search(key)\n",
    "        # if key is found,\n",
    "        if i is not None:\n",
    "            # delete it in the hash table\n",
    "            del self.table[index][i]\n",
    "            print(f\"Deleted key {key} from hash table.\")\n",
    "        # if key is not found,\n",
    "        else:\n",
    "            print(f\"Deletion failed due to key search error.\")\n",
    "        print()\n",
    "                    \n",
    "    def display(self):\n",
    "        # traverse hash table to check each linked list is filled or not\n",
    "        for index, items in enumerate(self.table):\n",
    "            if items is not None:\n",
    "                print(f\"At table index {index}, stored items are > {items}\")\n",
    "        print()\n",
    "         "
   ]
  },
  {
   "cell_type": "code",
   "execution_count": 3,
   "id": "fbc2ff3a-0499-48a2-b491-f2a936e0e6e9",
   "metadata": {},
   "outputs": [
    {
     "name": "stdout",
     "output_type": "stream",
     "text": [
      "At table index 0, stored items are > [28]\n",
      "At table index 1, stored items are > [22, 15]\n",
      "At table index 3, stored items are > [10, 31, 17, 59]\n",
      "At table index 4, stored items are > [4, 88]\n",
      "\n",
      "Deleted key 17 from hash table.\n",
      "\n",
      "No such key 21 exists...\n",
      "Deletion failed due to key search error.\n",
      "\n",
      "At table index 0, stored items are > [28]\n",
      "At table index 1, stored items are > [22, 15]\n",
      "At table index 3, stored items are > [10, 31, 59]\n",
      "At table index 4, stored items are > [4, 88]\n",
      "\n"
     ]
    }
   ],
   "source": [
    "# Create hashtable size of 7 with key % 7 hash function\n",
    "hash_table = HashTable(7)\n",
    "\n",
    "# Insert elements\n",
    "keys_to_insert = [10, 22, 31, 4, 15, 28, 17, 88, 59]\n",
    "for key in keys_to_insert:\n",
    "    hash_table.insert(key)\n",
    "\n",
    "# Display elements\n",
    "hash_table.display()\n",
    "\n",
    "# Search and Delete an element \n",
    "hash_table.delete(17) \n",
    "hash_table.delete(21)\n",
    "# If a key is not present, the program displays a message indicating that the key is not found.\n",
    "\n",
    "# Display elements after the deletion\n",
    "hash_table.display()"
   ]
  }
 ],
 "metadata": {
  "kernelspec": {
   "display_name": "Python 3 (ipykernel)",
   "language": "python",
   "name": "python3"
  },
  "language_info": {
   "codemirror_mode": {
    "name": "ipython",
    "version": 3
   },
   "file_extension": ".py",
   "mimetype": "text/x-python",
   "name": "python",
   "nbconvert_exporter": "python",
   "pygments_lexer": "ipython3",
   "version": "3.12.3"
  }
 },
 "nbformat": 4,
 "nbformat_minor": 5
}
